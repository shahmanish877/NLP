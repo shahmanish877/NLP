{
  "nbformat": 4,
  "nbformat_minor": 0,
  "metadata": {
    "colab": {
      "provenance": []
    },
    "kernelspec": {
      "name": "python3",
      "display_name": "Python 3"
    },
    "language_info": {
      "name": "python"
    }
  },
  "cells": [
    {
      "cell_type": "markdown",
      "source": [
        "## Word Sense Disambiguation\n",
        "\n",
        "Word Sense Disambiguation is an important method of NLP by which the meaning of a word is determined, which is used in a particular context. NLP systems often face the challenge of properly identifying words, and determining the specific usage of a word in a particular sentence has many applications.\n",
        "\n",
        "Word Sense Disambiguation basically solves the ambiguity that arises in determining the meaning of the same word used in different situations.\n",
        "\n",
        "Reference: https://www.nltk.org/howto/wsd.html\n",
        "\n",
        "\n",
        "**Lesk Algorithm**\n",
        "\n",
        "`Lesk Algorithm` is a classical Word Sense Disambiguation algorithm introduced by `Michael E. Lesk` in `1986`.\n",
        "\n",
        "The Lesk algorithm is based on the idea that words in a given region of the text will have a similar meaning. In the Simplified Lesk Algorithm, the correct meaning of each word context is found by getting the sense which overlaps the most among the given context and its dictionary meaning.\n",
        "\n",
        "Read More about the Lesk Algorithm here.\n",
        "\n",
        "We can use `NLTK` to implement Lesk in Python."
      ],
      "metadata": {
        "id": "dDSGKndxxmB7"
      }
    },
    {
      "cell_type": "code",
      "execution_count": 2,
      "metadata": {
        "id": "5OjLXEJUxZfJ"
      },
      "outputs": [],
      "source": [
        "import nltk\n",
        "from nltk.wsd import lesk\n",
        "from nltk.tokenize import word_tokenize"
      ]
    },
    {
      "cell_type": "markdown",
      "source": [
        "Let us now proceed with some examples."
      ],
      "metadata": {
        "id": "E75nU9h1yDpp"
      }
    },
    {
      "cell_type": "code",
      "source": [
        "nltk.download('punkt')\n",
        "nltk.download('wordnet')"
      ],
      "metadata": {
        "colab": {
          "base_uri": "https://localhost:8080/"
        },
        "id": "Ohhl0b34yJ8h",
        "outputId": "d95e3802-d0ea-4dba-abd5-bce90bbcc501"
      },
      "execution_count": 3,
      "outputs": [
        {
          "output_type": "stream",
          "name": "stderr",
          "text": [
            "[nltk_data] Downloading package punkt to /root/nltk_data...\n",
            "[nltk_data]   Unzipping tokenizers/punkt.zip.\n",
            "[nltk_data] Downloading package wordnet to /root/nltk_data...\n"
          ]
        },
        {
          "output_type": "execute_result",
          "data": {
            "text/plain": [
              "True"
            ]
          },
          "metadata": {},
          "execution_count": 3
        }
      ]
    },
    {
      "cell_type": "code",
      "source": [
        "a1= lesk(word_tokenize('This device is used to jam the signal'),'jam')\n",
        "print(a1)\n",
        "print(a1.definition())\n",
        "\n",
        "a2 = lesk(word_tokenize('I am stuck in a traffic jam'),'jam')\n",
        "print(a2,a2.definition())"
      ],
      "metadata": {
        "colab": {
          "base_uri": "https://localhost:8080/"
        },
        "id": "nJvDk8M-yEAO",
        "outputId": "99cc643f-eb35-41be-aaba-aa29ce5ea527"
      },
      "execution_count": 4,
      "outputs": [
        {
          "output_type": "stream",
          "name": "stdout",
          "text": [
            "Synset('jamming.n.01')\n",
            "deliberate radiation or reflection of electromagnetic energy for the purpose of disrupting enemy use of electronic devices or systems\n",
            "Synset('jam.v.05') get stuck and immobilized\n"
          ]
        }
      ]
    },
    {
      "cell_type": "markdown",
      "source": [
        "The definitions for “bank” are:"
      ],
      "metadata": {
        "id": "8r4B_fvuyv3p"
      }
    },
    {
      "cell_type": "code",
      "source": [
        "from nltk.corpus import wordnet as wn\n",
        "for ss in wn.synsets('bank'):\n",
        "    print(ss, ss.definition())"
      ],
      "metadata": {
        "colab": {
          "base_uri": "https://localhost:8080/"
        },
        "id": "sDv5YmzUyvaX",
        "outputId": "1e7b7178-de28-4853-868e-1b7b267d0da9"
      },
      "execution_count": 5,
      "outputs": [
        {
          "output_type": "stream",
          "name": "stdout",
          "text": [
            "Synset('bank.n.01') sloping land (especially the slope beside a body of water)\n",
            "Synset('depository_financial_institution.n.01') a financial institution that accepts deposits and channels the money into lending activities\n",
            "Synset('bank.n.03') a long ridge or pile\n",
            "Synset('bank.n.04') an arrangement of similar objects in a row or in tiers\n",
            "Synset('bank.n.05') a supply or stock held in reserve for future use (especially in emergencies)\n",
            "Synset('bank.n.06') the funds held by a gambling house or the dealer in some gambling games\n",
            "Synset('bank.n.07') a slope in the turn of a road or track; the outside is higher than the inside in order to reduce the effects of centrifugal force\n",
            "Synset('savings_bank.n.02') a container (usually with a slot in the top) for keeping money at home\n",
            "Synset('bank.n.09') a building in which the business of banking transacted\n",
            "Synset('bank.n.10') a flight maneuver; aircraft tips laterally about its longitudinal axis (especially in turning)\n",
            "Synset('bank.v.01') tip laterally\n",
            "Synset('bank.v.02') enclose with a bank\n",
            "Synset('bank.v.03') do business with a bank or keep an account at a bank\n",
            "Synset('bank.v.04') act as the banker in a game or in gambling\n",
            "Synset('bank.v.05') be in the banking business\n",
            "Synset('deposit.v.02') put into a bank account\n",
            "Synset('bank.v.07') cover with ashes so to control the rate of burning\n",
            "Synset('trust.v.01') have confidence or faith in\n"
          ]
        }
      ]
    },
    {
      "cell_type": "markdown",
      "source": [
        "Test disambiguation of POS tagged able."
      ],
      "metadata": {
        "id": "b6SSJxkby5do"
      }
    },
    {
      "cell_type": "code",
      "source": [
        "[(s, s.pos()) for s in wn.synsets('able')]"
      ],
      "metadata": {
        "colab": {
          "base_uri": "https://localhost:8080/"
        },
        "id": "k9Yod6G0y26G",
        "outputId": "5fe525ed-7c72-40c9-8a2b-185e03f70360"
      },
      "execution_count": 6,
      "outputs": [
        {
          "output_type": "execute_result",
          "data": {
            "text/plain": [
              "[(Synset('able.a.01'), 'a'),\n",
              " (Synset('able.s.02'), 's'),\n",
              " (Synset('able.s.03'), 's'),\n",
              " (Synset('able.s.04'), 's')]"
            ]
          },
          "metadata": {},
          "execution_count": 6
        }
      ]
    },
    {
      "cell_type": "code",
      "source": [
        "sentence = \"I love reading books on coding.\".split()\n",
        "lesk(sentence, 'book').definition()"
      ],
      "metadata": {
        "colab": {
          "base_uri": "https://localhost:8080/",
          "height": 35
        },
        "id": "P8I7y76BzB5Q",
        "outputId": "8d529930-f995-4aac-d7b2-86e3ef990464"
      },
      "execution_count": 8,
      "outputs": [
        {
          "output_type": "execute_result",
          "data": {
            "text/plain": [
              "'a number of sheets (ticket or stamps etc.) bound together on one edge'"
            ],
            "application/vnd.google.colaboratory.intrinsic+json": {
              "type": "string"
            }
          },
          "metadata": {},
          "execution_count": 8
        }
      ]
    },
    {
      "cell_type": "code",
      "source": [
        "sentence = \"I love reading books on coding.\".split()\n",
        "lesk(sentence, 'book').definition()"
      ],
      "metadata": {
        "colab": {
          "base_uri": "https://localhost:8080/",
          "height": 35
        },
        "id": "oBzOsllay-eo",
        "outputId": "12a6ba10-4c9d-456b-e17c-1c5ef446411c"
      },
      "execution_count": 9,
      "outputs": [
        {
          "output_type": "execute_result",
          "data": {
            "text/plain": [
              "'a number of sheets (ticket or stamps etc.) bound together on one edge'"
            ],
            "application/vnd.google.colaboratory.intrinsic+json": {
              "type": "string"
            }
          },
          "metadata": {},
          "execution_count": 9
        }
      ]
    },
    {
      "cell_type": "code",
      "source": [
        "sentence = \"The table was already booked by someone else.\".split()\n",
        "lesk(sentence, 'book').definition()"
      ],
      "metadata": {
        "colab": {
          "base_uri": "https://localhost:8080/",
          "height": 35
        },
        "id": "-UR2JJRP2N8S",
        "outputId": "4e299870-7f79-4c86-f3ee-278292a7515c"
      },
      "execution_count": 10,
      "outputs": [
        {
          "output_type": "execute_result",
          "data": {
            "text/plain": [
              "'arrange for and reserve (something for someone else) in advance'"
            ],
            "application/vnd.google.colaboratory.intrinsic+json": {
              "type": "string"
            }
          },
          "metadata": {},
          "execution_count": 10
        }
      ]
    },
    {
      "cell_type": "code",
      "source": [
        "for ss in wn.synsets('bat'):\n",
        "    print(ss, ss.definition())"
      ],
      "metadata": {
        "colab": {
          "base_uri": "https://localhost:8080/"
        },
        "id": "ZLYpyQZ8zL7z",
        "outputId": "bee4d2f0-012b-42df-da19-cd91b16f459a"
      },
      "execution_count": 11,
      "outputs": [
        {
          "output_type": "stream",
          "name": "stdout",
          "text": [
            "Synset('bat.n.01') nocturnal mouselike mammal with forelimbs modified to form membranous wings and anatomical adaptations for echolocation by which they navigate\n",
            "Synset('bat.n.02') (baseball) a turn trying to get a hit\n",
            "Synset('squash_racket.n.01') a small racket with a long handle used for playing squash\n",
            "Synset('cricket_bat.n.01') the club used in playing cricket\n",
            "Synset('bat.n.05') a club used for hitting a ball in various games\n",
            "Synset('bat.v.01') strike with, or as if with a baseball bat\n",
            "Synset('bat.v.02') wink briefly\n",
            "Synset('bat.v.03') have a turn at bat\n",
            "Synset('bat.v.04') use a bat\n",
            "Synset('cream.v.02') beat thoroughly and conclusively in a competition or fight\n"
          ]
        }
      ]
    },
    {
      "cell_type": "code",
      "source": [
        "sent = 'people should be able to marry a person of their choice'.split()\n"
      ],
      "metadata": {
        "id": "S83dhF8lzSRP"
      },
      "execution_count": 12,
      "outputs": []
    },
    {
      "cell_type": "code",
      "source": [
        "seq1 = 'My mother prepares very yummy jam.'\n",
        "seq2 = 'Signal jammers are the reason for no signal.'"
      ],
      "metadata": {
        "id": "2NsIVgtS2Y_m"
      },
      "execution_count": 13,
      "outputs": []
    }
  ]
}