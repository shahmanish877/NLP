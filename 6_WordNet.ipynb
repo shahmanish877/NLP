{
  "nbformat": 4,
  "nbformat_minor": 0,
  "metadata": {
    "colab": {
      "provenance": []
    },
    "kernelspec": {
      "name": "python3",
      "display_name": "Python 3"
    },
    "language_info": {
      "name": "python"
    }
  },
  "cells": [
    {
      "cell_type": "markdown",
      "source": [
        "# WordNet"
      ],
      "metadata": {
        "id": "I_q--sunYb6w"
      }
    },
    {
      "cell_type": "markdown",
      "source": [
        "One of the earliest attempts to create useful representations of meaning for language is [WordNet](https://en.wikipedia.org/wiki/WordNet) -- a lexical database of words and their relationships.\n",
        "\n",
        "NLTK provides a [WordNet wrapper](http://www.nltk.org/howto/wordnet.html) that we'll use here.\n",
        "\n",
        "Documentation and Examples: https://www.nltk.org/howto/wordnet.html"
      ],
      "metadata": {
        "id": "jPEN6hkDYaRZ"
      }
    },
    {
      "cell_type": "code",
      "source": [
        "import nltk\n",
        "assert(nltk.download('wordnet'))  # Make sure we have the wordnet data.\n",
        "from nltk.corpus import wordnet as wn"
      ],
      "metadata": {
        "colab": {
          "base_uri": "https://localhost:8080/"
        },
        "id": "Ry2TldbQZBdR",
        "outputId": "9d0a2d11-fe76-4f95-df8a-de0f1cf99c41"
      },
      "execution_count": null,
      "outputs": [
        {
          "output_type": "stream",
          "name": "stderr",
          "text": [
            "[nltk_data] Downloading package wordnet to /root/nltk_data...\n"
          ]
        }
      ]
    },
    {
      "cell_type": "markdown",
      "source": [
        "## Synsets\n",
        "The fundamental WordNet unit is a **synset**, specified by a word form, a part of speech, and an index. The synsets() function retrieves the synsets that match the given word. For example, there are 4 synsets for the word \"surf\", one of which is a noun (n) and three of which are verbs (v). WordNet provides a definition and sometimes glosses (examples) for each synset. **Polysemy**, by the way, means having multiple senses."
      ],
      "metadata": {
        "id": "4c7DxB1dY2gn"
      }
    },
    {
      "cell_type": "code",
      "source": [
        "wn.synset('dog.n.01')"
      ],
      "metadata": {
        "colab": {
          "base_uri": "https://localhost:8080/"
        },
        "id": "IKLQmE3GabHB",
        "outputId": "2fc23d9b-488d-4cef-bfc9-d928f7dccaf9"
      },
      "execution_count": null,
      "outputs": [
        {
          "output_type": "execute_result",
          "data": {
            "text/plain": [
              "Synset('dog.n.01')"
            ]
          },
          "metadata": {},
          "execution_count": 93
        }
      ]
    },
    {
      "cell_type": "markdown",
      "source": [
        "\n",
        "For this particular synset we can fetch the definition:\n"
      ],
      "metadata": {
        "id": "zKsaRrngaooM"
      }
    },
    {
      "cell_type": "code",
      "source": [
        "print(wn.synset('dog.n.01').definition())"
      ],
      "metadata": {
        "colab": {
          "base_uri": "https://localhost:8080/"
        },
        "id": "r0_jineaaihx",
        "outputId": "b7e9a07c-140e-43f6-93a5-a5eaa73d7e57"
      },
      "execution_count": null,
      "outputs": [
        {
          "output_type": "stream",
          "name": "stdout",
          "text": [
            "a member of the genus Canis (probably descended from the common wolf) that has been domesticated by man since prehistoric times; occurs in many breeds\n"
          ]
        }
      ]
    },
    {
      "cell_type": "code",
      "source": [
        "# example\n",
        "print(wn.synset('dog.n.01').examples()[0])"
      ],
      "metadata": {
        "colab": {
          "base_uri": "https://localhost:8080/"
        },
        "id": "w8ux9wEAawX6",
        "outputId": "1b595add-330e-4f6c-bafc-c60c0a11cddd"
      },
      "execution_count": null,
      "outputs": [
        {
          "output_type": "stream",
          "name": "stdout",
          "text": [
            "the dog barked all night\n"
          ]
        }
      ]
    },
    {
      "cell_type": "code",
      "source": [
        "for s in wn.synsets('surf'):\n",
        "    print(s)\n",
        "    print('\\t', s.definition())\n",
        "    print('\\t', s.examples())"
      ],
      "metadata": {
        "colab": {
          "base_uri": "https://localhost:8080/"
        },
        "id": "heihwj2LZIUn",
        "outputId": "af3a1517-86b5-4865-9a50-bed73c080b4f"
      },
      "execution_count": null,
      "outputs": [
        {
          "output_type": "stream",
          "name": "stdout",
          "text": [
            "Synset('surf.n.01')\n",
            "\t waves breaking on the shore\n",
            "\t []\n",
            "Synset('surfboard.v.01')\n",
            "\t ride the waves of the sea with a surfboard\n",
            "\t ['Californians love to surf']\n",
            "Synset('browse.v.03')\n",
            "\t look around casually and randomly, without seeking anything in particular\n",
            "\t ['browse a computer directory', 'surf the internet or the world wide web']\n",
            "Synset('surf.v.03')\n",
            "\t switch channels, on television\n",
            "\t []\n"
          ]
        }
      ]
    },
    {
      "cell_type": "markdown",
      "source": [
        "Synsets as object\n"
      ],
      "metadata": {
        "id": "zwNfbMSicwJ7"
      }
    },
    {
      "cell_type": "code",
      "source": [
        "dog = wn.synset('dog.n.01')"
      ],
      "metadata": {
        "id": "2b0YLD0LczGD"
      },
      "execution_count": null,
      "outputs": []
    },
    {
      "cell_type": "code",
      "source": [
        "dog.hypernyms()"
      ],
      "metadata": {
        "colab": {
          "base_uri": "https://localhost:8080/"
        },
        "id": "KlIZCqq0c15_",
        "outputId": "337fe0b5-2134-4f32-949e-060f9f320dfc"
      },
      "execution_count": null,
      "outputs": [
        {
          "output_type": "execute_result",
          "data": {
            "text/plain": [
              "[Synset('canine.n.02'), Synset('domestic_animal.n.01')]"
            ]
          },
          "metadata": {},
          "execution_count": 98
        }
      ]
    },
    {
      "cell_type": "code",
      "source": [
        "dog.hyponyms()"
      ],
      "metadata": {
        "colab": {
          "base_uri": "https://localhost:8080/"
        },
        "id": "WUK-5Eq_c3OH",
        "outputId": "963c1f4d-e8f2-4611-b1fd-36503797c528"
      },
      "execution_count": null,
      "outputs": [
        {
          "output_type": "execute_result",
          "data": {
            "text/plain": [
              "[Synset('basenji.n.01'),\n",
              " Synset('corgi.n.01'),\n",
              " Synset('cur.n.01'),\n",
              " Synset('dalmatian.n.02'),\n",
              " Synset('great_pyrenees.n.01'),\n",
              " Synset('griffon.n.02'),\n",
              " Synset('hunting_dog.n.01'),\n",
              " Synset('lapdog.n.01'),\n",
              " Synset('leonberg.n.01'),\n",
              " Synset('mexican_hairless.n.01'),\n",
              " Synset('newfoundland.n.01'),\n",
              " Synset('pooch.n.01'),\n",
              " Synset('poodle.n.01'),\n",
              " Synset('pug.n.01'),\n",
              " Synset('puppy.n.01'),\n",
              " Synset('spitz.n.01'),\n",
              " Synset('toy_dog.n.01'),\n",
              " Synset('working_dog.n.01')]"
            ]
          },
          "metadata": {},
          "execution_count": 99
        }
      ]
    },
    {
      "cell_type": "code",
      "source": [
        "dog.member_holonyms()"
      ],
      "metadata": {
        "colab": {
          "base_uri": "https://localhost:8080/"
        },
        "id": "oe_DuflDc4h_",
        "outputId": "b7f1c822-8131-475c-b72e-31501d085554"
      },
      "execution_count": null,
      "outputs": [
        {
          "output_type": "execute_result",
          "data": {
            "text/plain": [
              "[Synset('canis.n.01'), Synset('pack.n.06')]"
            ]
          },
          "metadata": {},
          "execution_count": 100
        }
      ]
    },
    {
      "cell_type": "code",
      "source": [
        "dog.root_hypernyms()"
      ],
      "metadata": {
        "colab": {
          "base_uri": "https://localhost:8080/"
        },
        "id": "9QYpbB17c6R8",
        "outputId": "6b1691c1-fc0d-4d90-9853-d8b21f38e955"
      },
      "execution_count": null,
      "outputs": [
        {
          "output_type": "execute_result",
          "data": {
            "text/plain": [
              "[Synset('entity.n.01')]"
            ]
          },
          "metadata": {},
          "execution_count": 101
        }
      ]
    },
    {
      "cell_type": "code",
      "source": [
        "wn.synset('dog.n.01').lowest_common_hypernyms(wn.synset('cat.n.01'))"
      ],
      "metadata": {
        "colab": {
          "base_uri": "https://localhost:8080/"
        },
        "id": "8c8Drb3wc8dk",
        "outputId": "9036a5df-e49d-4687-a4a4-5797ba743d7e"
      },
      "execution_count": null,
      "outputs": [
        {
          "output_type": "execute_result",
          "data": {
            "text/plain": [
              "[Synset('carnivore.n.01')]"
            ]
          },
          "metadata": {},
          "execution_count": 102
        }
      ]
    },
    {
      "cell_type": "markdown",
      "source": [
        "## Lemmas and synonyms\n",
        "Each synset includes its corresponding **lemmas** (word forms).\n",
        "\n",
        "We can construct a set of synonyms by looking up all the lemmas for all the synsets for a word."
      ],
      "metadata": {
        "id": "N-H3syfdY5Ff"
      }
    },
    {
      "cell_type": "code",
      "source": [
        "synonyms = set()\n",
        "\n",
        "for s in wn.synsets('triumphant'):\n",
        "    for l in s.lemmas():\n",
        "        synonyms.add(l.name())\n",
        "\n",
        "print ('synonyms:', ', '.join(synonyms))"
      ],
      "metadata": {
        "colab": {
          "base_uri": "https://localhost:8080/"
        },
        "id": "azbhfhQZZY2q",
        "outputId": "5251f8ec-8e20-4214-8878-b9d4b9bc732b"
      },
      "execution_count": null,
      "outputs": [
        {
          "output_type": "stream",
          "name": "stdout",
          "text": [
            "synonyms: exulting, prideful, jubilant, victorious, triumphal, exultant, triumphant, rejoicing\n"
          ]
        }
      ]
    },
    {
      "cell_type": "code",
      "source": [
        "wn.synset('dog.n.01').lemmas()"
      ],
      "metadata": {
        "colab": {
          "base_uri": "https://localhost:8080/"
        },
        "id": "KEvs9NaOa3lt",
        "outputId": "a80e9068-f33b-4fd0-f9f0-c61b38e761ab"
      },
      "execution_count": null,
      "outputs": [
        {
          "output_type": "execute_result",
          "data": {
            "text/plain": [
              "[Lemma('dog.n.01.dog'),\n",
              " Lemma('dog.n.01.domestic_dog'),\n",
              " Lemma('dog.n.01.Canis_familiaris')]"
            ]
          },
          "metadata": {},
          "execution_count": 104
        }
      ]
    },
    {
      "cell_type": "code",
      "source": [
        "# get all lemma into list\n",
        "dog_lemmas = [str(lemma.name()) for lemma in wn.synset('dog.n.01').lemmas()]\n",
        "dog_lemmas"
      ],
      "metadata": {
        "colab": {
          "base_uri": "https://localhost:8080/"
        },
        "id": "F-z-meKGa-fb",
        "outputId": "b4cff51e-cf10-4a4c-9e6c-3634f913fab9"
      },
      "execution_count": null,
      "outputs": [
        {
          "output_type": "execute_result",
          "data": {
            "text/plain": [
              "['dog', 'domestic_dog', 'Canis_familiaris']"
            ]
          },
          "metadata": {},
          "execution_count": 105
        }
      ]
    },
    {
      "cell_type": "markdown",
      "source": [
        "## Word hierarchies\n",
        "\n",
        "WordNet organizes nouns and verbs into hierarchies according to hypernym or is-a relationships.\n",
        "\n",
        "Let's examine the path from \"rutabaga\" to its root in the tree, \"entity\"."
      ],
      "metadata": {
        "id": "TkAMFVxKY7JZ"
      }
    },
    {
      "cell_type": "code",
      "source": [
        "s = wn.synsets('rutabaga')\n",
        "\n",
        "while s:\n",
        "    print (s[0].hypernyms())\n",
        "    s = s[0].hypernyms()"
      ],
      "metadata": {
        "colab": {
          "base_uri": "https://localhost:8080/"
        },
        "id": "Af9DXoGMZh8t",
        "outputId": "643a942f-1457-47e6-aaf5-9016362ea526"
      },
      "execution_count": null,
      "outputs": [
        {
          "output_type": "stream",
          "name": "stdout",
          "text": [
            "[Synset('turnip.n.02')]\n",
            "[Synset('cruciferous_vegetable.n.01'), Synset('root_vegetable.n.01')]\n",
            "[Synset('vegetable.n.01')]\n",
            "[Synset('produce.n.01')]\n",
            "[Synset('food.n.02')]\n",
            "[Synset('solid.n.01')]\n",
            "[Synset('matter.n.03')]\n",
            "[Synset('physical_entity.n.01')]\n",
            "[Synset('entity.n.01')]\n",
            "[]\n"
          ]
        }
      ]
    },
    {
      "cell_type": "markdown",
      "source": [
        "Actually, the proper way to do this is with a transitive closure, which repeatedly applies the specified function (in this case, hypernyms())."
      ],
      "metadata": {
        "id": "u6TG1wZEZtlV"
      }
    },
    {
      "cell_type": "code",
      "source": [
        "hyper = lambda x: x.hypernyms()\n",
        "s = wn.synset('rutabaga.n.01')\n",
        "for i in list(s.closure(hyper)):\n",
        "    print (i)\n",
        "print\n",
        "ss = wn.synset('root_vegetable.n.01')\n",
        "for i in list(ss.closure(hyper)):\n",
        "    print (i)"
      ],
      "metadata": {
        "colab": {
          "base_uri": "https://localhost:8080/"
        },
        "id": "9SYzwERFZvsl",
        "outputId": "e02326be-4acc-45a7-8f99-04c3c01df82c"
      },
      "execution_count": null,
      "outputs": [
        {
          "output_type": "stream",
          "name": "stdout",
          "text": [
            "Synset('turnip.n.02')\n",
            "Synset('cruciferous_vegetable.n.01')\n",
            "Synset('root_vegetable.n.01')\n",
            "Synset('vegetable.n.01')\n",
            "Synset('vegetable.n.01')\n",
            "Synset('produce.n.01')\n",
            "Synset('produce.n.01')\n",
            "Synset('food.n.02')\n",
            "Synset('food.n.02')\n",
            "Synset('solid.n.01')\n",
            "Synset('solid.n.01')\n",
            "Synset('matter.n.03')\n",
            "Synset('matter.n.03')\n",
            "Synset('physical_entity.n.01')\n",
            "Synset('physical_entity.n.01')\n",
            "Synset('entity.n.01')\n",
            "Synset('entity.n.01')\n",
            "Synset('vegetable.n.01')\n",
            "Synset('produce.n.01')\n",
            "Synset('food.n.02')\n",
            "Synset('solid.n.01')\n",
            "Synset('matter.n.03')\n",
            "Synset('physical_entity.n.01')\n",
            "Synset('entity.n.01')\n"
          ]
        }
      ]
    },
    {
      "cell_type": "markdown",
      "source": [
        "## Measuring similarity\n",
        "\n",
        "WordNet's word hierarchies (for nouns and verbs) allow us to measure similarity in various ways.\n",
        "\n",
        "Path similarity is defined as:\n",
        "\n",
        "> $1 / (ShortestPathDistance(s_1, s_2) + 1)$\n",
        "\n",
        "where $ShortestPathDistance(s_1, s_2)$ is computed from the hypernym/hyponym graph."
      ],
      "metadata": {
        "id": "l3OVBgNgZ1MV"
      }
    },
    {
      "cell_type": "code",
      "source": [
        "dog = wn.synset('dog.n.01')\n",
        "cat = wn.synset('cat.n.01')\n",
        "dog.path_similarity(cat)"
      ],
      "metadata": {
        "colab": {
          "base_uri": "https://localhost:8080/"
        },
        "id": "LCb0PxNEdbGg",
        "outputId": "bf7dcc8b-6e9b-4c79-c8c0-d7fc2cb3fb99"
      },
      "execution_count": null,
      "outputs": [
        {
          "output_type": "execute_result",
          "data": {
            "text/plain": [
              "0.2"
            ]
          },
          "metadata": {},
          "execution_count": 108
        }
      ]
    },
    {
      "cell_type": "code",
      "source": [
        "hit = wn.synset('hit.v.01')\n",
        "slap = wn.synset('slap.v.01')\n",
        "wn.path_similarity(hit, slap)"
      ],
      "metadata": {
        "colab": {
          "base_uri": "https://localhost:8080/"
        },
        "id": "qvCQgCGzdiM8",
        "outputId": "ea3ded83-dd47-43f2-f3bb-51b25cf4aedd"
      },
      "execution_count": null,
      "outputs": [
        {
          "output_type": "execute_result",
          "data": {
            "text/plain": [
              "0.14285714285714285"
            ]
          },
          "metadata": {},
          "execution_count": 109
        }
      ]
    },
    {
      "cell_type": "code",
      "source": [
        "s1 = wn.synset('dog.n.01')\n",
        "s2 = wn.synset('cat.n.01')\n",
        "s3 = wn.synset('potato.n.01')\n",
        "\n",
        "print (s1, '::', s1, s1.path_similarity(s1))\n",
        "print (s1, '::', s2, s1.path_similarity(s2))\n",
        "print (s1, '::', s3, s1.path_similarity(s3))\n",
        "print (s2, '::', s3, s2.path_similarity(s3))\n",
        "\n",
        "hyper = lambda x: x.hypernyms()\n",
        "print(s1.hypernyms())\n",
        "\n",
        "for i in list(s1.closure(hyper)):\n",
        "    print (i)"
      ],
      "metadata": {
        "colab": {
          "base_uri": "https://localhost:8080/"
        },
        "id": "92TMbsygZ00k",
        "outputId": "ee076750-3a16-47e9-f70d-ab1fc4621d5b"
      },
      "execution_count": null,
      "outputs": [
        {
          "output_type": "stream",
          "name": "stdout",
          "text": [
            "Synset('dog.n.01') :: Synset('dog.n.01') 1.0\n",
            "Synset('dog.n.01') :: Synset('cat.n.01') 0.2\n",
            "Synset('dog.n.01') :: Synset('potato.n.01') 0.07142857142857142\n",
            "Synset('cat.n.01') :: Synset('potato.n.01') 0.05263157894736842\n",
            "[Synset('canine.n.02'), Synset('domestic_animal.n.01')]\n",
            "Synset('canine.n.02')\n",
            "Synset('domestic_animal.n.01')\n",
            "Synset('carnivore.n.01')\n",
            "Synset('animal.n.01')\n",
            "Synset('placental.n.01')\n",
            "Synset('organism.n.01')\n",
            "Synset('mammal.n.01')\n",
            "Synset('living_thing.n.01')\n",
            "Synset('vertebrate.n.01')\n",
            "Synset('whole.n.02')\n",
            "Synset('chordate.n.01')\n",
            "Synset('object.n.01')\n",
            "Synset('physical_entity.n.01')\n",
            "Synset('entity.n.01')\n"
          ]
        }
      ]
    },
    {
      "cell_type": "markdown",
      "source": [
        "### Leacock-Chodorow Similarity\n",
        "`synset1.lch_similarity(synset2)`: Leacock-Chodorow Similarity: Return a score denoting how similar two word senses are, based on the shortest path that connects the senses (as above) and the maximum depth of the taxonomy in which the senses occur.\n",
        "\n",
        "The relationship is given as `-log(p/2d)` where p is the shortest path length and d the taxonomy depth."
      ],
      "metadata": {
        "id": "8I8UZ_lJdtqs"
      }
    },
    {
      "cell_type": "code",
      "source": [
        "dog.lch_similarity(cat)"
      ],
      "metadata": {
        "colab": {
          "base_uri": "https://localhost:8080/"
        },
        "id": "o-6MHK8Td5Ys",
        "outputId": "0c62f059-1be8-4134-8ba0-24d84a00b096"
      },
      "execution_count": null,
      "outputs": [
        {
          "output_type": "execute_result",
          "data": {
            "text/plain": [
              "2.0281482472922856"
            ]
          },
          "metadata": {},
          "execution_count": 111
        }
      ]
    },
    {
      "cell_type": "code",
      "source": [],
      "metadata": {
        "id": "R6rb51pjeYnu"
      },
      "execution_count": null,
      "outputs": []
    },
    {
      "cell_type": "markdown",
      "source": [
        "### Wu-Palmer Similarity\n",
        "\n",
        "synset1.wup_similarity(synset2): Return a score denoting how similar two word senses are, based on the depth of the two senses in the taxonomy and that of their Least Common Subsumer (most specific ancestor node). Note that at this time the scores given do not always agree with those given by Pedersen’s Perl implementation of Wordnet Similarity.\n",
        "\n",
        "The LCS does not necessarily feature in the shortest path connecting the two senses, as it is by definition the common ancestor deepest in the taxonomy, not closest to the two senses. Typically, however, it will so feature. Where multiple candidates for the LCS exist, that whose shortest path to the root node is the longest will be selected. Where the LCS has multiple paths to the root, the longer path is used for the purposes of the calculation."
      ],
      "metadata": {
        "id": "7AMLQtt8eE6P"
      }
    },
    {
      "cell_type": "code",
      "source": [
        "dog.wup_similarity(cat)"
      ],
      "metadata": {
        "colab": {
          "base_uri": "https://localhost:8080/"
        },
        "id": "LeH5cvu8ea6P",
        "outputId": "bee546b3-9de1-4322-916a-820f92ea6e77"
      },
      "execution_count": null,
      "outputs": [
        {
          "output_type": "execute_result",
          "data": {
            "text/plain": [
              "0.8571428571428571"
            ]
          },
          "metadata": {},
          "execution_count": 112
        }
      ]
    },
    {
      "cell_type": "code",
      "source": [
        "hit.wup_similarity(slap)"
      ],
      "metadata": {
        "colab": {
          "base_uri": "https://localhost:8080/"
        },
        "id": "R1btfUh2ecc5",
        "outputId": "01643ff7-08c2-43c7-e315-8acd939f26ce"
      },
      "execution_count": null,
      "outputs": [
        {
          "output_type": "execute_result",
          "data": {
            "text/plain": [
              "0.25"
            ]
          },
          "metadata": {},
          "execution_count": 113
        }
      ]
    },
    {
      "cell_type": "markdown",
      "source": [
        "### Information Content\n",
        "`wordnet_ic` Load an information content file from the `wordnet_ic` corpus."
      ],
      "metadata": {
        "id": "n24Ygw_Oekor"
      }
    },
    {
      "cell_type": "code",
      "source": [
        "nltk.download('wordnet_ic')"
      ],
      "metadata": {
        "colab": {
          "base_uri": "https://localhost:8080/"
        },
        "id": "HijMhQpBe7pC",
        "outputId": "2e317c4a-8ae5-4968-e953-c983ae7bf283"
      },
      "execution_count": null,
      "outputs": [
        {
          "output_type": "stream",
          "name": "stderr",
          "text": [
            "[nltk_data] Downloading package wordnet_ic to /root/nltk_data...\n",
            "[nltk_data]   Package wordnet_ic is already up-to-date!\n"
          ]
        },
        {
          "output_type": "execute_result",
          "data": {
            "text/plain": [
              "True"
            ]
          },
          "metadata": {},
          "execution_count": 114
        }
      ]
    },
    {
      "cell_type": "code",
      "source": [
        "from nltk.corpus import wordnet_ic\n",
        "brown_ic = wordnet_ic.ic('ic-brown.dat')\n",
        "semcor_ic = wordnet_ic.ic('ic-semcor.dat')"
      ],
      "metadata": {
        "id": "dw0SAsMDe3gL"
      },
      "execution_count": null,
      "outputs": []
    },
    {
      "cell_type": "markdown",
      "source": [
        "Or you can create an information content dictionary from a corpus (or anything that has a `words()` method)."
      ],
      "metadata": {
        "id": "zsAMhv-pfGT-"
      }
    },
    {
      "cell_type": "code",
      "source": [
        "nltk.download('genesis')"
      ],
      "metadata": {
        "colab": {
          "base_uri": "https://localhost:8080/"
        },
        "id": "9kmNyEESfOlc",
        "outputId": "fcd69d3d-e6a7-4935-c4d5-735cb9dc63a0"
      },
      "execution_count": null,
      "outputs": [
        {
          "output_type": "stream",
          "name": "stderr",
          "text": [
            "[nltk_data] Downloading package genesis to /root/nltk_data...\n",
            "[nltk_data]   Package genesis is already up-to-date!\n"
          ]
        },
        {
          "output_type": "execute_result",
          "data": {
            "text/plain": [
              "True"
            ]
          },
          "metadata": {},
          "execution_count": 116
        }
      ]
    },
    {
      "cell_type": "code",
      "source": [
        "from nltk.corpus import genesis\n",
        "genesis_ic = wn.ic(genesis, False, 0.0)"
      ],
      "metadata": {
        "id": "DpkguTk3fLGj"
      },
      "execution_count": null,
      "outputs": []
    },
    {
      "cell_type": "code",
      "source": [
        "genesis_ic"
      ],
      "metadata": {
        "id": "s5qvn3TyfUfq"
      },
      "execution_count": null,
      "outputs": []
    },
    {
      "cell_type": "markdown",
      "source": [
        "### Resnik Similarity\n",
        "`synset1.res_similarity(synset2, ic)`: Resnik Similarity: Return a score denoting how similar two word senses are, based on the Information Content (IC) of the Least Common Subsumer (most specific ancestor node). Note that for any similarity measure that uses information content, the result is dependent on the corpus used to generate the information content and the specifics of how the information content was created.\n"
      ],
      "metadata": {
        "id": "zkm9T50Yfd1g"
      }
    },
    {
      "cell_type": "code",
      "source": [
        "dog.res_similarity(cat, brown_ic)"
      ],
      "metadata": {
        "colab": {
          "base_uri": "https://localhost:8080/"
        },
        "id": "eKbDrT76flwj",
        "outputId": "4f00b042-5e87-4309-d504-bddd24344a6b"
      },
      "execution_count": null,
      "outputs": [
        {
          "output_type": "execute_result",
          "data": {
            "text/plain": [
              "7.911666509036577"
            ]
          },
          "metadata": {},
          "execution_count": 119
        }
      ]
    },
    {
      "cell_type": "code",
      "source": [
        "dog.res_similarity(cat, genesis_ic)"
      ],
      "metadata": {
        "colab": {
          "base_uri": "https://localhost:8080/"
        },
        "id": "_S4u80LGfqL1",
        "outputId": "0f9d0989-fbaa-4d92-9527-acfd8471c479"
      },
      "execution_count": null,
      "outputs": [
        {
          "output_type": "execute_result",
          "data": {
            "text/plain": [
              "7.204023991374833"
            ]
          },
          "metadata": {},
          "execution_count": 120
        }
      ]
    },
    {
      "cell_type": "markdown",
      "source": [
        "## Multilingual functions\n",
        "\n",
        "\n",
        "The current version of WordNet in NLTK is multilingual.\n",
        "\n",
        "The WordNet corpus reader gives access to the Open Multilingual WordNet, using ISO-639 language codes. These languages are not loaded by default, but only lazily, when needed.\n",
        "\n",
        "\n",
        "To see which languages are supported, use this command:\n"
      ],
      "metadata": {
        "id": "rtHnDA-4bHIE"
      }
    },
    {
      "cell_type": "code",
      "source": [
        "sorted(wn.langs())"
      ],
      "metadata": {
        "id": "ibStU4XJbK_W"
      },
      "execution_count": null,
      "outputs": []
    },
    {
      "cell_type": "code",
      "source": [
        "nltk.download('omw-1.4')"
      ],
      "metadata": {
        "colab": {
          "base_uri": "https://localhost:8080/"
        },
        "id": "Ck5uEPOccBYs",
        "outputId": "726ac5d3-f5c6-4e6d-c384-e3e9bc91e430"
      },
      "execution_count": null,
      "outputs": [
        {
          "output_type": "stream",
          "name": "stderr",
          "text": [
            "[nltk_data] Downloading package omw-1.4 to /root/nltk_data...\n",
            "[nltk_data]   Package omw-1.4 is already up-to-date!\n"
          ]
        },
        {
          "output_type": "execute_result",
          "data": {
            "text/plain": [
              "True"
            ]
          },
          "metadata": {},
          "execution_count": 122
        }
      ]
    },
    {
      "cell_type": "code",
      "source": [
        "sorted(wn.langs())"
      ],
      "metadata": {
        "colab": {
          "base_uri": "https://localhost:8080/"
        },
        "id": "mo-Y2RpTcPUN",
        "outputId": "a629b8fa-3c5b-439b-a269-d40ddd98c122"
      },
      "execution_count": null,
      "outputs": [
        {
          "output_type": "execute_result",
          "data": {
            "text/plain": [
              "['als',\n",
              " 'arb',\n",
              " 'bul',\n",
              " 'cat',\n",
              " 'cmn',\n",
              " 'dan',\n",
              " 'ell',\n",
              " 'eng',\n",
              " 'eus',\n",
              " 'fin',\n",
              " 'fra',\n",
              " 'glg',\n",
              " 'heb',\n",
              " 'hrv',\n",
              " 'ind',\n",
              " 'isl',\n",
              " 'ita',\n",
              " 'ita_iwn',\n",
              " 'jpn',\n",
              " 'lit',\n",
              " 'nld',\n",
              " 'nno',\n",
              " 'nob',\n",
              " 'pol',\n",
              " 'por',\n",
              " 'ron',\n",
              " 'slk',\n",
              " 'slv',\n",
              " 'spa',\n",
              " 'swe',\n",
              " 'tha',\n",
              " 'zsm']"
            ]
          },
          "metadata": {},
          "execution_count": 123
        }
      ]
    },
    {
      "cell_type": "code",
      "source": [
        "wn.synset('spy.n.01').lemma_names('cat')"
      ],
      "metadata": {
        "colab": {
          "base_uri": "https://localhost:8080/"
        },
        "id": "hqsvpZtzb4it",
        "outputId": "b5d1852e-5b6c-466e-a970-48e0e91a54b5"
      },
      "execution_count": null,
      "outputs": [
        {
          "output_type": "execute_result",
          "data": {
            "text/plain": [
              "['agent_secret', 'espia']"
            ]
          },
          "metadata": {},
          "execution_count": 124
        }
      ]
    },
    {
      "cell_type": "code",
      "source": [
        "wn.synset('dog.n.01').lemma_names('ita')"
      ],
      "metadata": {
        "colab": {
          "base_uri": "https://localhost:8080/"
        },
        "id": "l3eirh8tcfaM",
        "outputId": "f601df29-aa45-47f3-b31e-df79361ce16f"
      },
      "execution_count": null,
      "outputs": [
        {
          "output_type": "execute_result",
          "data": {
            "text/plain": [
              "['Canis_familiaris', 'cane']"
            ]
          },
          "metadata": {},
          "execution_count": 125
        }
      ]
    },
    {
      "cell_type": "code",
      "source": [
        "wn.synset('dog.n.01').lemmas('por')"
      ],
      "metadata": {
        "colab": {
          "base_uri": "https://localhost:8080/"
        },
        "id": "k7scgdTucl6b",
        "outputId": "f830b5c3-1be4-40f1-d387-576abc8c28cc"
      },
      "execution_count": null,
      "outputs": [
        {
          "output_type": "execute_result",
          "data": {
            "text/plain": [
              "[Lemma('dog.n.01.cachorra'),\n",
              " Lemma('dog.n.01.cachorro'),\n",
              " Lemma('dog.n.01.cadela'),\n",
              " Lemma('dog.n.01.cão')]"
            ]
          },
          "metadata": {},
          "execution_count": 126
        }
      ]
    }
  ]
}