{
 "cells": [
  {
   "cell_type": "code",
   "execution_count": 7,
   "metadata": {},
   "outputs": [],
   "source": [
    "def q3(s, i): \n",
    "    print('q3 -> ', end='')\n",
    "    # Condition to check end of string\n",
    "    if (i == len(s)):\n",
    "        print(\"YES\")\n",
    "        return\n",
    "    # State transitions  # ANY char -> take to q0    \n",
    "    q0(s, i + 1)\n",
    "\n",
    "def q2(s, i): \n",
    "    print('q2 -> ', end='')\n",
    "    # Condition to check end of string\n",
    "    if (i == len(s)):\n",
    "        print(\"No\")\n",
    "        return\n",
    "    # State transitions: # IF current char is 'i' -> takes to q1 ELSE REMAIN in same state\n",
    "    if (s[i] == 'g'):\n",
    "        q3(s, i + 1)\n",
    "    else:\n",
    "        q0(s, i + 1)\n",
    "\n",
    "\n",
    "def q1(s, i): \n",
    "    print('q1 -> ', end='')\n",
    "    # Condition to check end of string\n",
    "    if (i == len(s)):\n",
    "        print(\"No\")\n",
    "        return\n",
    "    # State transitions: # IF current char is 'n' -> takes to q2 ELSE move to state q0\n",
    "    # if (s[i] == 'n'):\n",
    "    if (s[i] == 'n'):\n",
    "        q2(s, i + 1)\n",
    "    elif (s[i] == 'i'):\n",
    "        q1(s, i + 1)\n",
    "    else:\n",
    "        q0(s, i + 1)\n",
    "\n",
    "\n",
    "def q0(s, i):\n",
    "    print('q0 -> ', end='')\n",
    "    # Condition to check end of string\n",
    "    if (i == len(s)):\n",
    "        print(\"No\")\n",
    "        return\n",
    "    # State transitions : # IF current char is 'i' -> takes to q1 ELSE REMAIN in same state\n",
    "    if (s[i] == 'i'):\n",
    "        q1(s, i + 1)\n",
    "    else:\n",
    "        q0(s, i + 1)\n",
    " "
   ]
  },
  {
   "cell_type": "code",
   "execution_count": 8,
   "metadata": {},
   "outputs": [
    {
     "name": "stdout",
     "output_type": "stream",
     "text": [
      "q0 -> q0 -> q0 -> q0 -> q1 -> q1 -> q2 -> q3 -> YES\n"
     ]
    }
   ],
   "source": [
    "input = \"runiing\"\n",
    "q0(input, 0)"
   ]
  }
 ],
 "metadata": {
  "kernelspec": {
   "display_name": "Python 3",
   "language": "python",
   "name": "python3"
  },
  "language_info": {
   "codemirror_mode": {
    "name": "ipython",
    "version": 3
   },
   "file_extension": ".py",
   "mimetype": "text/x-python",
   "name": "python",
   "nbconvert_exporter": "python",
   "pygments_lexer": "ipython3",
   "version": "3.11.3"
  },
  "orig_nbformat": 4
 },
 "nbformat": 4,
 "nbformat_minor": 2
}
